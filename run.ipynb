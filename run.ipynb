{
 "cells": [
  {
   "cell_type": "markdown",
   "metadata": {},
   "source": [
    "# Assignment 1"
   ]
  },
  {
   "cell_type": "markdown",
   "metadata": {},
   "source": [
    "## Loading data"
   ]
  },
  {
   "cell_type": "code",
   "execution_count": 1,
   "metadata": {
    "scrolled": false
   },
   "outputs": [],
   "source": [
    "from aa import DataLoader\n",
    "from aa import extract_features\n",
    "from aa import check_output"
   ]
  },
  {
   "cell_type": "code",
   "execution_count": 2,
   "metadata": {},
   "outputs": [],
   "source": [
    "# IN THIS BOX YOU ARE ALLOWED TO ADD ANY CODE FOR SETTING UP A PYTORCH DEVICE\n",
    "import torch\n",
    "device = torch.device(\"cuda:0\" if torch.cuda.is_available() else \"cpu\")\n",
    "#device = torch.device('cuda:0')"
   ]
  },
  {
   "cell_type": "code",
   "execution_count": 3,
   "metadata": {
    "scrolled": true
   },
   "outputs": [
    {
     "name": "stdout",
     "output_type": "stream",
     "text": [
      "dataframes are ready\n"
     ]
    }
   ],
   "source": [
    "dataset = DataLoader(data_dir=\"../DDI_Corpus\", device=device)"
   ]
  },
  {
   "cell_type": "code",
   "execution_count": 4,
   "metadata": {
    "scrolled": false
   },
   "outputs": [
    {
     "data": {
      "text/html": [
       "<div>\n",
       "<style scoped>\n",
       "    .dataframe tbody tr th:only-of-type {\n",
       "        vertical-align: middle;\n",
       "    }\n",
       "\n",
       "    .dataframe tbody tr th {\n",
       "        vertical-align: top;\n",
       "    }\n",
       "\n",
       "    .dataframe thead th {\n",
       "        text-align: right;\n",
       "    }\n",
       "</style>\n",
       "<table border=\"1\" class=\"dataframe\">\n",
       "  <thead>\n",
       "    <tr style=\"text-align: right;\">\n",
       "      <th></th>\n",
       "      <th>sentence_id</th>\n",
       "      <th>token_id</th>\n",
       "      <th>char_start_id</th>\n",
       "      <th>char_end_id</th>\n",
       "      <th>split</th>\n",
       "    </tr>\n",
       "  </thead>\n",
       "  <tbody>\n",
       "    <tr>\n",
       "      <th>0</th>\n",
       "      <td>DDI-MedLine.d203.s16</td>\n",
       "      <td>156</td>\n",
       "      <td>0</td>\n",
       "      <td>5</td>\n",
       "      <td>test</td>\n",
       "    </tr>\n",
       "    <tr>\n",
       "      <th>1</th>\n",
       "      <td>DDI-MedLine.d203.s16</td>\n",
       "      <td>157</td>\n",
       "      <td>7</td>\n",
       "      <td>13</td>\n",
       "      <td>test</td>\n",
       "    </tr>\n",
       "    <tr>\n",
       "      <th>2</th>\n",
       "      <td>DDI-MedLine.d203.s16</td>\n",
       "      <td>158</td>\n",
       "      <td>15</td>\n",
       "      <td>17</td>\n",
       "      <td>test</td>\n",
       "    </tr>\n",
       "    <tr>\n",
       "      <th>3</th>\n",
       "      <td>DDI-MedLine.d203.s16</td>\n",
       "      <td>159</td>\n",
       "      <td>19</td>\n",
       "      <td>24</td>\n",
       "      <td>test</td>\n",
       "    </tr>\n",
       "    <tr>\n",
       "      <th>4</th>\n",
       "      <td>DDI-MedLine.d203.s16</td>\n",
       "      <td>15</td>\n",
       "      <td>26</td>\n",
       "      <td>27</td>\n",
       "      <td>test</td>\n",
       "    </tr>\n",
       "  </tbody>\n",
       "</table>\n",
       "</div>"
      ],
      "text/plain": [
       "            sentence_id  token_id  char_start_id  char_end_id split\n",
       "0  DDI-MedLine.d203.s16       156              0            5  test\n",
       "1  DDI-MedLine.d203.s16       157              7           13  test\n",
       "2  DDI-MedLine.d203.s16       158             15           17  test\n",
       "3  DDI-MedLine.d203.s16       159             19           24  test\n",
       "4  DDI-MedLine.d203.s16        15             26           27  test"
      ]
     },
     "execution_count": 4,
     "metadata": {},
     "output_type": "execute_result"
    }
   ],
   "source": [
    "dataset.data_df.head()"
   ]
  },
  {
   "cell_type": "code",
   "execution_count": 5,
   "metadata": {
    "scrolled": true
   },
   "outputs": [
    {
     "data": {
      "text/html": [
       "<div>\n",
       "<style scoped>\n",
       "    .dataframe tbody tr th:only-of-type {\n",
       "        vertical-align: middle;\n",
       "    }\n",
       "\n",
       "    .dataframe tbody tr th {\n",
       "        vertical-align: top;\n",
       "    }\n",
       "\n",
       "    .dataframe thead th {\n",
       "        text-align: right;\n",
       "    }\n",
       "</style>\n",
       "<table border=\"1\" class=\"dataframe\">\n",
       "  <thead>\n",
       "    <tr style=\"text-align: right;\">\n",
       "      <th></th>\n",
       "      <th>sentence_id</th>\n",
       "      <th>ner_id</th>\n",
       "      <th>char_start_id</th>\n",
       "      <th>char_end_id</th>\n",
       "    </tr>\n",
       "  </thead>\n",
       "  <tbody>\n",
       "    <tr>\n",
       "      <th>0</th>\n",
       "      <td>DDI-MedLine.d203.s0</td>\n",
       "      <td>1</td>\n",
       "      <td>54</td>\n",
       "      <td>68</td>\n",
       "    </tr>\n",
       "    <tr>\n",
       "      <th>1</th>\n",
       "      <td>DDI-MedLine.d203.s1</td>\n",
       "      <td>1</td>\n",
       "      <td>129</td>\n",
       "      <td>143</td>\n",
       "    </tr>\n",
       "    <tr>\n",
       "      <th>2</th>\n",
       "      <td>DDI-MedLine.d203.s5</td>\n",
       "      <td>1</td>\n",
       "      <td>68</td>\n",
       "      <td>82</td>\n",
       "    </tr>\n",
       "    <tr>\n",
       "      <th>3</th>\n",
       "      <td>DDI-MedLine.d203.s6</td>\n",
       "      <td>1</td>\n",
       "      <td>0</td>\n",
       "      <td>8</td>\n",
       "    </tr>\n",
       "    <tr>\n",
       "      <th>4</th>\n",
       "      <td>DDI-MedLine.d203.s6</td>\n",
       "      <td>1</td>\n",
       "      <td>10</td>\n",
       "      <td>18</td>\n",
       "    </tr>\n",
       "  </tbody>\n",
       "</table>\n",
       "</div>"
      ],
      "text/plain": [
       "           sentence_id  ner_id  char_start_id  char_end_id\n",
       "0  DDI-MedLine.d203.s0       1             54           68\n",
       "1  DDI-MedLine.d203.s1       1            129          143\n",
       "2  DDI-MedLine.d203.s5       1             68           82\n",
       "3  DDI-MedLine.d203.s6       1              0            8\n",
       "4  DDI-MedLine.d203.s6       1             10           18"
      ]
     },
     "execution_count": 5,
     "metadata": {},
     "output_type": "execute_result"
    }
   ],
   "source": [
    "dataset.ner_df.head()"
   ]
  },
  {
   "cell_type": "code",
   "execution_count": 7,
   "metadata": {
    "scrolled": true
   },
   "outputs": [
    {
     "data": {
      "text/plain": [
       "['potential',\n",
       " 'underuse',\n",
       " 'overuse',\n",
       " 'and',\n",
       " 'inappropriate',\n",
       " 'use',\n",
       " 'of',\n",
       " 'antidepressants',\n",
       " 'in',\n",
       " 'older',\n",
       " 'veteran',\n",
       " 'nursing',\n",
       " 'home',\n",
       " 'residents.\\r',\n",
       " 'to']"
      ]
     },
     "execution_count": 7,
     "metadata": {},
     "output_type": "execute_result"
    }
   ],
   "source": [
    "dataset.vocab[:15]"
   ]
  },
  {
   "cell_type": "code",
   "execution_count": 8,
   "metadata": {
    "scrolled": true
   },
   "outputs": [
    {
     "data": {
      "text/plain": [
       "{1: 'group', 2: 'drug_n', 3: 'drug', 4: 'brand'}"
      ]
     },
     "execution_count": 8,
     "metadata": {},
     "output_type": "execute_result"
    }
   ],
   "source": [
    "dataset.id2ner"
   ]
  },
  {
   "cell_type": "code",
   "execution_count": 9,
   "metadata": {},
   "outputs": [
    {
     "data": {
      "text/plain": [
       "94"
      ]
     },
     "execution_count": 9,
     "metadata": {},
     "output_type": "execute_result"
    }
   ],
   "source": [
    "dataset.max_sample_length"
   ]
  },
  {
   "cell_type": "code",
   "execution_count": 10,
   "metadata": {
    "scrolled": true
   },
   "outputs": [
    {
     "name": "stderr",
     "output_type": "stream",
     "text": [
      "/home/gusklezju@GU.GU.SE/machine_learning/lt2316-h20-aa/aa/data_loading.py:44: SettingWithCopyWarning: \n",
      "A value is trying to be set on a copy of a slice from a DataFrame.\n",
      "Try using .loc[row_indexer,col_indexer] = value instead\n",
      "\n",
      "See the caveats in the documentation: http://pandas.pydata.org/pandas-docs/stable/user_guide/indexing.html#returning-a-view-versus-a-copy\n",
      "  sample_tokens[\"token\"] = sample_tokens.loc[:,\"token_id\"].apply(decode_word)\n"
     ]
    },
    {
     "data": {
      "text/plain": [
       "'interactions for DRUG:vitamin DRUG:b1 (thiamine) loop DRUG:diuretics DRUG:oral contraceptives stavudine tricyclic GROUP:antidepressants'"
      ]
     },
     "execution_count": 10,
     "metadata": {},
     "output_type": "execute_result"
    }
   ],
   "source": [
    "dataset.get_random_sample()"
   ]
  },
  {
   "cell_type": "markdown",
   "metadata": {},
   "source": [
    "### Data Exploration"
   ]
  },
  {
   "cell_type": "code",
   "execution_count": 11,
   "metadata": {},
   "outputs": [
    {
     "name": "stdout",
     "output_type": "stream",
     "text": [
      "split df\n",
      "got y\n"
     ]
    },
    {
     "data": {
      "image/png": "[encoded data removed]",
      "text/plain": [
       "<Figure size 432x288 with 1 Axes>"
      ]
     },
     "metadata": {
      "needs_background": "light"
     },
     "output_type": "display_data"
    }
   ],
   "source": [
    "dataset.plot_split_ner_distribution()"
   ]
  },
  {
   "cell_type": "markdown",
   "metadata": {},
   "source": [
    "### Labels"
   ]
  },
  {
   "cell_type": "code",
   "execution_count": 12,
   "metadata": {
    "scrolled": true
   },
   "outputs": [
    {
     "name": "stdout",
     "output_type": "stream",
     "text": [
      "split df\n",
      "got y\n"
     ]
    }
   ],
   "source": [
    "train_y, val_y, test_y = check_output(dataset.get_y())"
   ]
  },
  {
   "cell_type": "markdown",
   "metadata": {},
   "source": [
    "## Extracting Features"
   ]
  },
  {
   "cell_type": "code",
   "execution_count": 4,
   "metadata": {},
   "outputs": [
    {
     "ename": "NameError",
     "evalue": "name 'device' is not defined",
     "output_type": "error",
     "traceback": [
      "\u001b[0;31m---------------------------------------------------------------------------\u001b[0m",
      "\u001b[0;31mNameError\u001b[0m                                 Traceback (most recent call last)",
      "\u001b[0;32m<ipython-input-4-c8bdfbd62f0b>\u001b[0m in \u001b[0;36m<module>\u001b[0;34m\u001b[0m\n\u001b[1;32m      2\u001b[0m                                                         \u001b[0mdata\u001b[0m\u001b[0;34m=\u001b[0m\u001b[0mdataset\u001b[0m\u001b[0;34m.\u001b[0m\u001b[0mdata_df\u001b[0m\u001b[0;34m,\u001b[0m\u001b[0;34m\u001b[0m\u001b[0;34m\u001b[0m\u001b[0m\n\u001b[1;32m      3\u001b[0m                                                         \u001b[0mmax_sample_length\u001b[0m\u001b[0;34m=\u001b[0m\u001b[0mdataset\u001b[0m\u001b[0;34m.\u001b[0m\u001b[0mmax_sample_length\u001b[0m\u001b[0;34m,\u001b[0m\u001b[0;34m\u001b[0m\u001b[0;34m\u001b[0m\u001b[0m\n\u001b[0;32m----> 4\u001b[0;31m                                                         \u001b[0mid2w\u001b[0m \u001b[0;34m=\u001b[0m \u001b[0mdataset\u001b[0m\u001b[0;34m.\u001b[0m\u001b[0mid2word\u001b[0m\u001b[0;34m\u001b[0m\u001b[0;34m\u001b[0m\u001b[0m\n\u001b[0m\u001b[1;32m      5\u001b[0m                                                        ))\n",
      "\u001b[0;32m~/machine_learning/lt2316-h20-aa/aa/feature_extraction.py\u001b[0m in \u001b[0;36mextract_features\u001b[0;34m(data, max_sample_length, id2w)\u001b[0m\n\u001b[1;32m     57\u001b[0m     \u001b[0;31m# convert lists to tensors and reshape to correct dimensions\u001b[0m\u001b[0;34m\u001b[0m\u001b[0;34m\u001b[0m\u001b[0;34m\u001b[0m\u001b[0m\n\u001b[1;32m     58\u001b[0m     \u001b[0mtrain_f_tensor\u001b[0m \u001b[0;34m=\u001b[0m \u001b[0mtorch\u001b[0m\u001b[0;34m.\u001b[0m\u001b[0mLongTensor\u001b[0m\u001b[0;34m(\u001b[0m\u001b[0mtrain_features\u001b[0m\u001b[0;34m)\u001b[0m\u001b[0;34m\u001b[0m\u001b[0;34m\u001b[0m\u001b[0m\n\u001b[0;32m---> 59\u001b[0;31m     \u001b[0mtrain_f_tensor\u001b[0m \u001b[0;34m=\u001b[0m \u001b[0mtrain_f_tensor\u001b[0m\u001b[0;34m.\u001b[0m\u001b[0mreshape\u001b[0m\u001b[0;34m(\u001b[0m\u001b[0;34m[\u001b[0m\u001b[0;34m(\u001b[0m\u001b[0mlen\u001b[0m\u001b[0;34m(\u001b[0m\u001b[0mtrain_f_tensor\u001b[0m\u001b[0;34m)\u001b[0m\u001b[0;34m//\u001b[0m\u001b[0mmax_sample_length\u001b[0m\u001b[0;34m)\u001b[0m\u001b[0;34m,\u001b[0m\u001b[0mmax_sample_length\u001b[0m\u001b[0;34m,\u001b[0m \u001b[0;36m6\u001b[0m\u001b[0;34m]\u001b[0m\u001b[0;34m)\u001b[0m\u001b[0;34m.\u001b[0m\u001b[0mto\u001b[0m\u001b[0;34m(\u001b[0m\u001b[0mdevice\u001b[0m\u001b[0;34m)\u001b[0m \u001b[0;31m# number features hardcoded: 6\u001b[0m\u001b[0;34m\u001b[0m\u001b[0;34m\u001b[0m\u001b[0m\n\u001b[0m\u001b[1;32m     60\u001b[0m     \u001b[0mval_f_tensor\u001b[0m \u001b[0;34m=\u001b[0m \u001b[0mtorch\u001b[0m\u001b[0;34m.\u001b[0m\u001b[0mLongTensor\u001b[0m\u001b[0;34m(\u001b[0m\u001b[0mval_features\u001b[0m\u001b[0;34m)\u001b[0m\u001b[0;34m\u001b[0m\u001b[0;34m\u001b[0m\u001b[0m\n\u001b[1;32m     61\u001b[0m     \u001b[0mval_f_tensor\u001b[0m \u001b[0;34m=\u001b[0m \u001b[0mval_f_tensor\u001b[0m\u001b[0;34m.\u001b[0m\u001b[0mreshape\u001b[0m\u001b[0;34m(\u001b[0m\u001b[0;34m[\u001b[0m\u001b[0;34m(\u001b[0m\u001b[0mlen\u001b[0m\u001b[0;34m(\u001b[0m\u001b[0mval_f_tensor\u001b[0m\u001b[0;34m)\u001b[0m\u001b[0;34m//\u001b[0m\u001b[0mmax_sample_length\u001b[0m\u001b[0;34m)\u001b[0m\u001b[0;34m,\u001b[0m\u001b[0mmax_sample_length\u001b[0m\u001b[0;34m,\u001b[0m \u001b[0;36m6\u001b[0m\u001b[0;34m]\u001b[0m\u001b[0;34m)\u001b[0m\u001b[0;34m.\u001b[0m\u001b[0mto\u001b[0m\u001b[0;34m(\u001b[0m\u001b[0mdevice\u001b[0m\u001b[0;34m)\u001b[0m\u001b[0;34m\u001b[0m\u001b[0;34m\u001b[0m\u001b[0m\n",
      "\u001b[0;31mNameError\u001b[0m: name 'device' is not defined"
     ]
    }
   ],
   "source": [
    "train_X, val_X, test_X = check_output(extract_features(\n",
    "                                                        data=dataset.data_df,\n",
    "                                                        max_sample_length=dataset.max_sample_length,\n",
    "                                                        id2w = dataset.id2word\n",
    "                                                       ))"
   ]
  },
  {
   "cell_type": "markdown",
   "metadata": {},
   "source": [
    "## Bonus Part: Explore Some more"
   ]
  },
  {
   "cell_type": "code",
   "execution_count": null,
   "metadata": {},
   "outputs": [],
   "source": [
    "#uncomment the code below if you want to do bonus part"
   ]
  },
  {
   "cell_type": "code",
   "execution_count": 4,
   "metadata": {},
   "outputs": [],
   "source": [
    "#dataset.plot_ner_per_sample_distribution()"
   ]
  },
  {
   "cell_type": "code",
   "execution_count": 4,
   "metadata": {},
   "outputs": [
    {
     "name": "stdout",
     "output_type": "stream",
     "text": [
      "Counter({'DDI-DrugBank.d782.s0': 94, 'DDI-DrugBank.d184.s0': 87, 'DDI-DrugBank.d643.s0': 81, 'DDI-DrugBank.d484.s0': 65, 'DDI-DrugBank.d775.s13': 64, 'DDI-DrugBank.d342.s0': 63, 'DDI-DrugBank.d168.s0': 63, 'DDI-DrugBank.d62.s0': 62, 'DDI-DrugBank.d192.s0': 62, 'DDI-DrugBank.d760.s0': 59, 'DDI-DrugBank.d537.s0': 58, 'DDI-DrugBank.d234.s12': 54, 'DDI-DrugBank.d229.s3': 54, 'DDI-DrugBank.d724.s1': 53, 'DDI-DrugBank.d38.s4': 52, 'DDI-DrugBank.d627.s4': 50, 'DDI-DrugBank.d381.s2': 50, 'DDI-DrugBank.d70.s29': 50, 'DDI-DrugBank.d242.s1': 50, 'DDI-MedLine.d88.s5': 48, 'DDI-MedLine.d95.s9': 48, 'DDI-DrugBank.d140.s25': 48, 'DDI-DrugBank.d382.s43': 48, 'DDI-DrugBank.d86.s1': 48, 'DDI-MedLine.d83.s19': 47, 'DDI-DrugBank.d401.s0': 47, 'DDI-DrugBank.d557.s1': 46, 'DDI-MedLine.d118.s3': 45, 'DDI-DrugBank.d18.s1': 45, 'DDI-DrugBank.d332.s2': 45, 'DDI-DrugBank.d72.s4': 45, 'DDI-DrugBank.d333.s7': 43, 'DDI-DrugBank.d211.s6': 43, 'DDI-DrugBank.d566.s5': 43, 'DDI-DrugBank.d376.s0': 43, 'DDI-MedLine.d26.s8': 42, 'DDI-DrugBank.d13.s0': 42, 'DDI-DrugBank.d10.s2': 42, 'DDI-MedLine.d76.s10': 41, 'DDI-DrugBank.d502.s1': 41, 'DDI-DrugBank.d482.s14': 41, 'DDI-DrugBank.d218.s1': 41, 'DDI-DrugBank.d636.s3': 40, 'DDI-MedLine.d121.s12': 40, 'DDI-DrugBank.d202.s16': 40, 'DDI-DrugBank.d205.s0': 40, 'DDI-DrugBank.d295.s2': 40, 'DDI-DrugBank.d141.s13': 40, 'DDI-DrugBank.d422.s15': 40, 'DDI-MedLine.d192.s8': 39, 'DDI-DrugBank.d660.s1': 39, 'DDI-MedLine.d159.s7': 39, 'DDI-MedLine.d179.s10': 39, 'DDI-DrugBank.d670.s10': 39, 'DDI-DrugBank.d608.s6': 39, 'DDI-MedLine.d125.s8': 39, 'DDI-MedLine.d20.s7': 39, 'DDI-MedLine.d98.s11': 39, 'DDI-DrugBank.d274.s3': 39, 'DDI-DrugBank.d197.s5': 39, 'DDI-DrugBank.d701.s1': 38, 'DDI-DrugBank.d573.s2': 38, 'DDI-MedLine.d66.s4': 38, 'DDI-DrugBank.d379.s1': 38, 'DDI-DrugBank.d541.s0': 38, 'DDI-DrugBank.d480.s30': 38, 'DDI-DrugBank.d232.s2': 38, 'DDI-MedLine.d187.s11': 37, 'DDI-MedLine.d136.s7': 37, 'DDI-MedLine.d59.s7': 37, 'DDI-MedLine.d14.s2': 37, 'DDI-DrugBank.d433.s2': 37, 'DDI-DrugBank.d655.s0': 36, 'DDI-DrugBank.d629.s1': 36, 'DDI-DrugBank.d618.s1': 36, 'DDI-MedLine.d33.s8': 36, 'DDI-MedLine.d0.s5': 36, 'DDI-MedLine.d31.s5': 36, 'DDI-MedLine.d92.s1': 36, 'DDI-DrugBank.d194.s1': 36, 'DDI-DrugBank.d6.s2': 36, 'DDI-DrugBank.d346.s5': 36, 'DDI-MedLine.d220.s12': 35, 'DDI-MedLine.d167.s4': 35, 'DDI-MedLine.d148.s6': 35, 'DDI-MedLine.d200.s10': 35, 'DDI-MedLine.d36.s2': 35, 'DDI-DrugBank.d354.s3': 35, 'DDI-DrugBank.d165.s31': 35, 'DDI-DrugBank.d450.s14': 35, 'DDI-DrugBank.d772.s1': 34, 'DDI-DrugBank.d591.s6': 34, 'DDI-MedLine.d34.s12': 34, 'DDI-MedLine.d39.s8': 34, 'DDI-MedLine.d108.s2': 34, 'DDI-DrugBank.d311.s0': 34, 'DDI-DrugBank.d66.s7': 34, 'DDI-DrugBank.d356.s6': 34, 'DDI-DrugBank.d516.s26': 34, 'DDI-DrugBank.d63.s0': 34, 'DDI-MedLine.d153.s8': 33, 'DDI-MedLine.d227.s9': 33, 'DDI-DrugBank.d613.s2': 33, 'DDI-DrugBank.d611.s1': 33, 'DDI-MedLine.d12.s7': 33, 'DDI-DrugBank.d550.s7': 33, 'DDI-DrugBank.d32.s12': 33, 'DDI-DrugBank.d267.s6': 33, 'DDI-MedLine.d228.s3': 32, 'DDI-MedLine.d149.s9': 32, 'DDI-DrugBank.d692.s1': 32, 'DDI-DrugBank.d738.s2': 32, 'DDI-DrugBank.d682.s1': 32, 'DDI-DrugBank.d649.s1': 32, 'DDI-DrugBank.d645.s9': 32, 'DDI-DrugBank.d628.s7': 32, 'DDI-DrugBank.d712.s1': 32, 'DDI-MedLine.d104.s8': 32, 'DDI-MedLine.d16.s6': 32, 'DDI-MedLine.d126.s7': 32, 'DDI-DrugBank.d470.s1': 32, 'DDI-DrugBank.d531.s92': 32, 'DDI-DrugBank.d412.s17': 32, 'DDI-DrugBank.d180.s3': 32, 'DDI-MedLine.d155.s11': 31, 'DDI-DrugBank.d685.s4': 31, 'DDI-DrugBank.d669.s1': 31, 'DDI-DrugBank.d604.s6': 31, 'DDI-DrugBank.d706.s1': 31, 'DDI-DrugBank.d596.s9': 31, 'DDI-DrugBank.d630.s1': 31, 'DDI-DrugBank.d732.s4': 31, 'DDI-DrugBank.d777.s5': 31, 'DDI-DrugBank.d597.s30': 31, 'DDI-DrugBank.d587.s0': 31, 'DDI-MedLine.d6.s8': 31, 'DDI-MedLine.d41.s1': 31, 'DDI-MedLine.d71.s5': 31, 'DDI-DrugBank.d488.s9': 31, 'DDI-DrugBank.d348.s0': 31, 'DDI-DrugBank.d483.s4': 31, 'DDI-DrugBank.d408.s4': 31, 'DDI-DrugBank.d91.s3': 31, 'DDI-DrugBank.d358.s3': 31, 'DDI-MedLine.d224.s10': 30, 'DDI-MedLine.d185.s13': 30, 'DDI-DrugBank.d722.s1': 30, 'DDI-DrugBank.d761.s13': 30, 'DDI-DrugBank.d658.s2': 30, 'DDI-MedLine.d38.s9': 30, 'DDI-MedLine.d138.s3': 30, 'DDI-MedLine.d44.s8': 30, 'DDI-DrugBank.d510.s1': 30, 'DDI-DrugBank.d431.s12': 30, 'DDI-DrugBank.d515.s0': 30, 'DDI-DrugBank.d81.s15': 30, 'DDI-DrugBank.d239.s2': 30, 'DDI-DrugBank.d55.s2': 30, 'DDI-MedLine.d152.s10': 29, 'DDI-DrugBank.d657.s3': 29, 'DDI-MedLine.d199.s4': 29, 'DDI-DrugBank.d652.s6': 29, 'DDI-DrugBank.d776.s43': 29, 'DDI-MedLine.d48.s11': 29, 'DDI-MedLine.d122.s7': 29, 'DDI-DrugBank.d105.s0': 29, 'DDI-DrugBank.d103.s26': 29, 'DDI-DrugBank.d177.s3': 29, 'DDI-DrugBank.d223.s28': 29, 'DDI-DrugBank.d36.s0': 29, 'DDI-DrugBank.d503.s7': 29, 'DDI-DrugBank.d266.s1': 29, 'DDI-DrugBank.d414.s7': 29, 'DDI-DrugBank.d535.s1': 29, 'DDI-MedLine.d184.s9': 28, 'DDI-DrugBank.d668.s5': 28, 'DDI-DrugBank.d609.s1': 28, 'DDI-MedLine.d86.s9': 28, 'DDI-MedLine.d62.s6': 28, 'DDI-MedLine.d5.s5': 28, 'DDI-MedLine.d52.s2': 28, 'DDI-MedLine.d23.s2': 28, 'DDI-DrugBank.d278.s0': 28, 'DDI-DrugBank.d353.s23': 28, 'DDI-DrugBank.d21.s1': 28, 'DDI-DrugBank.d547.s3': 28, 'DDI-DrugBank.d208.s0': 28, 'DDI-DrugBank.d361.s0': 28, 'DDI-DrugBank.d191.s1': 28, 'DDI-DrugBank.d443.s9': 28, 'DDI-DrugBank.d468.s10': 28, 'DDI-DrugBank.d472.s0': 28, 'DDI-DrugBank.d551.s6': 28, 'DDI-MedLine.d157.s6': 27, 'DDI-MedLine.d177.s4': 27, 'DDI-DrugBank.d574.s0': 27, 'DDI-MedLine.d194.s17': 27, 'DDI-DrugBank.d577.s7': 27, 'DDI-DrugBank.d650.s2': 27, 'DDI-DrugBank.d625.s1': 27, 'DDI-MedLine.d137.s11': 27, 'DDI-MedLine.d61.s9': 27, 'DDI-MedLine.d135.s8': 27, 'DDI-DrugBank.d321.s6': 27, 'DDI-DrugBank.d28.s3': 27, 'DDI-DrugBank.d233.s3': 27, 'DDI-DrugBank.d538.s2': 27, 'DDI-DrugBank.d370.s2': 27, 'DDI-DrugBank.d241.s5': 27, 'DDI-DrugBank.d226.s9': 27, 'DDI-DrugBank.d494.s1': 27, 'DDI-DrugBank.d506.s9': 27, 'DDI-DrugBank.d522.s24': 27, 'DDI-DrugBank.d162.s13': 27, 'DDI-DrugBank.d17.s33': 27, 'DDI-DrugBank.d486.s0': 27, 'DDI-DrugBank.d135.s11': 27, 'DDI-DrugBank.d45.s8': 27, 'DDI-DrugBank.d77.s21': 27, 'DDI-DrugBank.d154.s11': 27, 'DDI-MedLine.d191.s7': 26, 'DDI-MedLine.d183.s9': 26, 'DDI-MedLine.d226.s13': 26, 'DDI-MedLine.d222.s6': 26, 'DDI-MedLine.d176.s5': 26, 'DDI-MedLine.d205.s7': 26, 'DDI-MedLine.d151.s6': 26, 'DDI-DrugBank.d749.s2': 26, 'DDI-MedLine.d154.s6': 26, 'DDI-MedLine.d189.s12': 26, 'DDI-DrugBank.d585.s7': 26, 'DDI-DrugBank.d762.s3': 26, 'DDI-MedLine.d51.s6': 26, 'DDI-MedLine.d123.s9': 26, 'DDI-MedLine.d22.s5': 26, 'DDI-DrugBank.d210.s33': 26, 'DDI-DrugBank.d525.s5': 26, 'DDI-DrugBank.d475.s3': 26, 'DDI-DrugBank.d248.s0': 26, 'DDI-DrugBank.d564.s4': 26, 'DDI-DrugBank.d529.s19': 26, 'DDI-DrugBank.d417.s0': 26, 'DDI-DrugBank.d425.s7': 26, 'DDI-DrugBank.d511.s6': 26, 'DDI-DrugBank.d351.s0': 26, 'DDI-DrugBank.d543.s8': 26, 'DDI-DrugBank.d48.s21': 26, 'DDI-DrugBank.d126.s3': 26, 'DDI-MedLine.d197.s7': 25, 'DDI-MedLine.d178.s2': 25, 'DDI-MedLine.d186.s13': 25, 'DDI-MedLine.d207.s5': 25, 'DDI-DrugBank.d705.s1': 25, 'DDI-DrugBank.d583.s2': 25, 'DDI-MedLine.d161.s10': 25, 'DDI-DrugBank.d784.s7': 25, 'DDI-DrugBank.d751.s1': 25, 'DDI-DrugBank.d633.s20': 25, 'DDI-DrugBank.d757.s0': 25, 'DDI-MedLine.d7.s4': 25, 'DDI-MedLine.d19.s5': 25, 'DDI-MedLine.d100.s8': 25, 'DDI-MedLine.d58.s8': 25, 'DDI-MedLine.d97.s10': 25, 'DDI-DrugBank.d289.s32': 25, 'DDI-DrugBank.d179.s40': 25, 'DDI-DrugBank.d98.s15': 25, 'DDI-DrugBank.d189.s0': 25, 'DDI-DrugBank.d394.s0': 25, 'DDI-DrugBank.d527.s5': 25, 'DDI-DrugBank.d47.s7': 25, 'DDI-DrugBank.d398.s2': 25, 'DDI-DrugBank.d312.s5': 25, 'DDI-DrugBank.d133.s2': 25, 'DDI-DrugBank.d108.s6': 25, 'DDI-DrugBank.d404.s15': 25, 'DDI-DrugBank.d386.s28': 25, 'DDI-DrugBank.d320.s7': 25, 'DDI-DrugBank.d542.s3': 25, 'DDI-DrugBank.d68.s5': 25, 'DDI-DrugBank.d544.s5': 25, 'DDI-DrugBank.d442.s1': 25, 'DDI-DrugBank.d549.s6': 25, 'DDI-DrugBank.d190.s6': 25, 'DDI-DrugBank.d384.s15': 25, 'DDI-MedLine.d206.s8': 24, 'DDI-DrugBank.d764.s1': 24, 'DDI-DrugBank.d768.s5': 24, 'DDI-MedLine.d163.s8': 24, 'DDI-MedLine.d164.s5': 24, 'DDI-DrugBank.d687.s2': 24, 'DDI-DrugBank.d752.s12': 24, 'DDI-MedLine.d129.s6': 24, 'DDI-MedLine.d65.s5': 24, 'DDI-MedLine.d28.s10': 24, 'DDI-MedLine.d54.s12': 24, 'DDI-MedLine.d87.s8': 24, 'DDI-MedLine.d32.s7': 24, 'DDI-MedLine.d120.s6': 24, 'DDI-MedLine.d43.s11': 24, 'DDI-MedLine.d67.s7': 24, 'DDI-MedLine.d25.s13': 24, 'DDI-DrugBank.d563.s0': 24, 'DDI-DrugBank.d263.s26': 24, 'DDI-DrugBank.d568.s39': 24, 'DDI-DrugBank.d215.s0': 24, 'DDI-DrugBank.d310.s4': 24, 'DDI-DrugBank.d169.s3': 24, 'DDI-DrugBank.d43.s16': 24, 'DDI-DrugBank.d567.s22': 24, 'DDI-MedLine.d210.s4': 23, 'DDI-MedLine.d188.s1': 23, 'DDI-MedLine.d202.s9': 23, 'DDI-MedLine.d232.s8': 23, 'DDI-MedLine.d208.s3': 23, 'DDI-MedLine.d218.s11': 23, 'DDI-MedLine.d190.s9': 23, 'DDI-DrugBank.d739.s15': 23, 'DDI-MedLine.d40.s5': 23, 'DDI-MedLine.d24.s8': 23, 'DDI-MedLine.d74.s11': 23, 'DDI-MedLine.d18.s9': 23, 'DDI-MedLine.d42.s12': 23, 'DDI-MedLine.d103.s15': 23, 'DDI-MedLine.d106.s9': 23, 'DDI-DrugBank.d297.s5': 23, 'DDI-DrugBank.d324.s38': 23, 'DDI-DrugBank.d20.s12': 23, 'DDI-DrugBank.d308.s3': 23, 'DDI-DrugBank.d460.s16': 23, 'DDI-DrugBank.d83.s2': 23, 'DDI-DrugBank.d173.s0': 23, 'DDI-DrugBank.d231.s17': 23, 'DDI-DrugBank.d292.s1': 23, 'DDI-DrugBank.d143.s64': 23, 'DDI-DrugBank.d144.s3': 23, 'DDI-DrugBank.d99.s26': 23, 'DDI-DrugBank.d327.s2': 23, 'DDI-DrugBank.d287.s5': 23, 'DDI-DrugBank.d207.s8': 23, 'DDI-DrugBank.d558.s37': 23, 'DDI-DrugBank.d365.s1': 23, 'DDI-DrugBank.d198.s41': 23, 'DDI-DrugBank.d134.s1': 23, 'DDI-DrugBank.d399.s1': 23, 'DDI-DrugBank.d335.s5': 23, 'DDI-MedLine.d212.s10': 22, 'DDI-MedLine.d170.s6': 22, 'DDI-MedLine.d174.s3': 22, 'DDI-DrugBank.d644.s4': 22, 'DDI-MedLine.d211.s2': 22, 'DDI-MedLine.d166.s18': 22, 'DDI-DrugBank.d702.s2': 22, 'DDI-DrugBank.d723.s0': 22, 'DDI-DrugBank.d619.s5': 22, 'DDI-MedLine.d53.s9': 22, 'DDI-MedLine.d101.s5': 22, 'DDI-MedLine.d89.s8': 22, 'DDI-MedLine.d77.s9': 22, 'DDI-MedLine.d131.s5': 22, 'DDI-MedLine.d119.s19': 22, 'DDI-DrugBank.d187.s14': 22, 'DDI-DrugBank.d124.s30': 22, 'DDI-DrugBank.d0.s6': 22, 'DDI-DrugBank.d4.s2': 22, 'DDI-DrugBank.d328.s50': 22, 'DDI-DrugBank.d395.s25': 22, 'DDI-DrugBank.d206.s1': 22, 'DDI-DrugBank.d160.s1': 22, 'DDI-DrugBank.d111.s0': 22, 'DDI-MedLine.d173.s4': 21, 'DDI-MedLine.d225.s9': 21, 'DDI-MedLine.d162.s5': 21, 'DDI-DrugBank.d717.s2': 21, 'DDI-DrugBank.d600.s1': 21, 'DDI-DrugBank.d654.s3': 21, 'DDI-DrugBank.d599.s8': 21, 'DDI-MedLine.d69.s6': 21, 'DDI-MedLine.d114.s8': 21, 'DDI-MedLine.d105.s9': 21, 'DDI-MedLine.d124.s10': 21, 'DDI-MedLine.d110.s16': 21, 'DDI-MedLine.d130.s8': 21, 'DDI-DrugBank.d501.s15': 21, 'DDI-DrugBank.d410.s10': 21, 'DDI-DrugBank.d15.s7': 21, 'DDI-DrugBank.d94.s18': 21, 'DDI-DrugBank.d33.s0': 21, 'DDI-DrugBank.d247.s9': 21, 'DDI-DrugBank.d253.s3': 21, 'DDI-DrugBank.d437.s15': 21, 'DDI-DrugBank.d74.s4': 21, 'DDI-DrugBank.d546.s3': 21, 'DDI-DrugBank.d52.s1': 21, 'DDI-DrugBank.d552.s1': 21, 'DDI-DrugBank.d380.s7': 21, 'DDI-DrugBank.d533.s9': 21, 'DDI-DrugBank.d331.s11': 21, 'DDI-DrugBank.d371.s2': 21, 'DDI-DrugBank.d444.s0': 21, 'DDI-DrugBank.d167.s2': 21, 'DDI-MedLine.d203.s16': 20, 'DDI-MedLine.d198.s9': 20, 'DDI-MedLine.d150.s8': 20, 'DDI-DrugBank.d612.s0': 20, 'DDI-DrugBank.d767.s2': 20, 'DDI-DrugBank.d663.s3': 20, 'DDI-DrugBank.d754.s0': 20, 'DDI-MedLine.d181.s9': 20, 'DDI-MedLine.d143.s7': 20, 'DDI-MedLine.d214.s6': 20, 'DDI-DrugBank.d770.s4': 20, 'DDI-DrugBank.d746.s2': 20, 'DDI-DrugBank.d635.s0': 20, 'DDI-DrugBank.d638.s5': 20, 'DDI-DrugBank.d779.s18': 20, 'DDI-DrugBank.d747.s0': 20, 'DDI-MedLine.d82.s8': 20, 'DDI-MedLine.d50.s5': 20, 'DDI-MedLine.d13.s8': 20, 'DDI-MedLine.d9.s7': 20, 'DDI-MedLine.d115.s15': 20, 'DDI-MedLine.d93.s9': 20, 'DDI-MedLine.d133.s6': 20, 'DDI-MedLine.d132.s12': 20, 'DDI-MedLine.d73.s5': 20, 'DDI-DrugBank.d261.s0': 20, 'DDI-DrugBank.d518.s1': 20, 'DDI-DrugBank.d235.s4': 20, 'DDI-DrugBank.d288.s31': 20, 'DDI-DrugBank.d42.s7': 20, 'DDI-DrugBank.d315.s1': 20, 'DDI-DrugBank.d44.s3': 20, 'DDI-DrugBank.d252.s5': 20, 'DDI-DrugBank.d172.s24': 20, 'DDI-DrugBank.d325.s14': 20, 'DDI-DrugBank.d517.s0': 20, 'DDI-DrugBank.d378.s3': 20, 'DDI-DrugBank.d313.s13': 20, 'DDI-DrugBank.d122.s6': 20, 'DDI-MedLine.d158.s10': 19, 'DDI-MedLine.d172.s15': 19, 'DDI-DrugBank.d667.s2': 19, 'DDI-DrugBank.d730.s0': 19, 'DDI-MedLine.d169.s11': 19, 'DDI-DrugBank.d735.s6': 19, 'DDI-DrugBank.d647.s3': 19, 'DDI-DrugBank.d726.s3': 19, 'DDI-DrugBank.d607.s1': 19, 'DDI-DrugBank.d679.s0': 19, 'DDI-DrugBank.d580.s1': 19, 'DDI-MedLine.d47.s4': 19, 'DDI-MedLine.d96.s7': 19, 'DDI-MedLine.d10.s5': 19, 'DDI-MedLine.d80.s29': 19, 'DDI-DrugBank.d138.s5': 19, 'DDI-DrugBank.d427.s14': 19, 'DDI-DrugBank.d455.s11': 19, 'DDI-DrugBank.d258.s12': 19, 'DDI-DrugBank.d495.s10': 19, 'DDI-DrugBank.d363.s2': 19, 'DDI-DrugBank.d87.s20': 19, 'DDI-DrugBank.d104.s1': 19, 'DDI-DrugBank.d203.s3': 19, 'DDI-DrugBank.d532.s4': 19, 'DDI-DrugBank.d291.s11': 19, 'DDI-DrugBank.d530.s3': 19, 'DDI-DrugBank.d7.s3': 19, 'DDI-DrugBank.d565.s42': 19, 'DDI-DrugBank.d209.s9': 19, 'DDI-DrugBank.d446.s0': 19, 'DDI-DrugBank.d118.s1': 19, 'DDI-MedLine.d156.s9': 18, 'DDI-MedLine.d168.s8': 18, 'DDI-DrugBank.d592.s2': 18, 'DDI-MedLine.d217.s12': 18, 'DDI-MedLine.d195.s7': 18, 'DDI-MedLine.d209.s11': 18, 'DDI-DrugBank.d720.s4': 18, 'DDI-DrugBank.d665.s7': 18, 'DDI-DrugBank.d709.s5': 18, 'DDI-DrugBank.d696.s1': 18, 'DDI-MedLine.d113.s6': 18, 'DDI-MedLine.d112.s3': 18, 'DDI-MedLine.d127.s10': 18, 'DDI-MedLine.d17.s9': 18, 'DDI-MedLine.d79.s5': 18, 'DDI-MedLine.d45.s11': 18, 'DDI-MedLine.d91.s10': 18, 'DDI-MedLine.d1.s9': 18, 'DDI-DrugBank.d400.s16': 18, 'DDI-DrugBank.d161.s1': 18, 'DDI-DrugBank.d121.s2': 18, 'DDI-DrugBank.d8.s6': 18, 'DDI-DrugBank.d95.s3': 18, 'DDI-DrugBank.d120.s2': 18, 'DDI-DrugBank.d497.s3': 18, 'DDI-DrugBank.d56.s0': 18, 'DDI-DrugBank.d88.s6': 18, 'DDI-DrugBank.d369.s3': 18, 'DDI-DrugBank.d424.s7': 18, 'DDI-DrugBank.d271.s1': 18, 'DDI-DrugBank.d276.s5': 18, 'DDI-DrugBank.d304.s0': 18, 'DDI-DrugBank.d39.s1': 18, 'DDI-DrugBank.d462.s13': 18, 'DDI-DrugBank.d11.s6': 18, 'DDI-DrugBank.d500.s7': 18, 'DDI-DrugBank.d80.s0': 18, 'DDI-DrugBank.d493.s4': 18, 'DDI-MedLine.d142.s6': 17, 'DDI-MedLine.d230.s8': 17, 'DDI-DrugBank.d718.s1': 17, 'DDI-DrugBank.d745.s0': 17, 'DDI-MedLine.d231.s10': 17, 'DDI-MedLine.d147.s8': 17, 'DDI-DrugBank.d675.s7': 17, 'DDI-DrugBank.d601.s0': 17, 'DDI-MedLine.d30.s14': 17, 'DDI-MedLine.d90.s11': 17, 'DDI-MedLine.d109.s13': 17, 'DDI-MedLine.d140.s15': 17, 'DDI-MedLine.d29.s8': 17, 'DDI-DrugBank.d496.s0': 17, 'DDI-DrugBank.d188.s2': 17, 'DDI-DrugBank.d277.s28': 17, 'DDI-DrugBank.d334.s20': 17, 'DDI-DrugBank.d452.s0': 17, 'DDI-DrugBank.d222.s2': 17, 'DDI-DrugBank.d221.s3': 17, 'DDI-DrugBank.d73.s10': 17, 'DDI-DrugBank.d318.s14': 17, 'DDI-DrugBank.d290.s5': 17, 'DDI-DrugBank.d186.s6': 17, 'DDI-DrugBank.d492.s1': 17, 'DDI-DrugBank.d298.s1': 17, 'DDI-DrugBank.d435.s4': 17, 'DDI-DrugBank.d225.s13': 17, 'DDI-DrugBank.d245.s10': 17, 'DDI-DrugBank.d100.s1': 17, 'DDI-DrugBank.d471.s1': 17, 'DDI-DrugBank.d178.s13': 17, 'DDI-DrugBank.d114.s16': 17, 'DDI-DrugBank.d478.s6': 17, 'DDI-DrugBank.d457.s0': 17, 'DDI-DrugBank.d110.s5': 17, 'DDI-DrugBank.d107.s17': 17, 'DDI-DrugBank.d461.s0': 17, 'DDI-DrugBank.d220.s17': 17, 'DDI-DrugBank.d447.s2': 17, 'DDI-DrugBank.d508.s5': 17, 'DDI-MedLine.d144.s3': 16, 'DDI-MedLine.d221.s3': 16, 'DDI-MedLine.d229.s3': 16, 'DDI-DrugBank.d673.s3': 16, 'DDI-DrugBank.d664.s1': 16, 'DDI-DrugBank.d575.s5': 16, 'DDI-DrugBank.d688.s3': 16, 'DDI-DrugBank.d710.s9': 16, 'DDI-DrugBank.d666.s6': 16, 'DDI-DrugBank.d758.s0': 16, 'DDI-DrugBank.d637.s3': 16, 'DDI-DrugBank.d759.s0': 16, 'DDI-DrugBank.d742.s11': 16, 'DDI-DrugBank.d651.s0': 16, 'DDI-DrugBank.d721.s4': 16, 'DDI-DrugBank.d622.s3': 16, 'DDI-MedLine.d75.s8': 16, 'DDI-MedLine.d57.s8': 16, 'DDI-MedLine.d27.s3': 16, 'DDI-MedLine.d107.s10': 16, 'DDI-MedLine.d94.s18': 16, 'DDI-DrugBank.d181.s1': 16, 'DDI-DrugBank.d323.s2': 16, 'DDI-DrugBank.d41.s16': 16, 'DDI-DrugBank.d204.s6': 16, 'DDI-DrugBank.d303.s6': 16, 'DDI-DrugBank.d314.s32': 16, 'DDI-DrugBank.d355.s3': 16, 'DDI-DrugBank.d307.s48': 16, 'DDI-DrugBank.d445.s0': 16, 'DDI-DrugBank.d69.s4': 16, 'DDI-DrugBank.d273.s1': 16, 'DDI-DrugBank.d275.s3': 16, 'DDI-DrugBank.d182.s1': 16, 'DDI-DrugBank.d360.s4': 16, 'DDI-DrugBank.d26.s1': 16, 'DDI-DrugBank.d521.s15': 16, 'DDI-DrugBank.d113.s7': 16, 'DDI-DrugBank.d129.s3': 16, 'DDI-DrugBank.d40.s24': 16, 'DDI-DrugBank.d505.s4': 16, 'DDI-DrugBank.d64.s94': 16, 'DDI-DrugBank.d1.s1': 16, 'DDI-DrugBank.d319.s0': 16, 'DDI-DrugBank.d489.s10': 16, 'DDI-DrugBank.d507.s14': 16, 'DDI-DrugBank.d345.s17': 16, 'DDI-DrugBank.d434.s39': 16, 'DDI-DrugBank.d499.s28': 16, 'DDI-DrugBank.d545.s0': 16, 'DDI-DrugBank.d123.s20': 16, 'DDI-DrugBank.d405.s1': 16, 'DDI-DrugBank.d392.s3': 16, 'DDI-DrugBank.d336.s1': 16, 'DDI-DrugBank.d476.s9': 16, 'DDI-DrugBank.d339.s7': 16, 'DDI-DrugBank.d388.s5': 16, 'DDI-DrugBank.d262.s0': 16, 'DDI-DrugBank.d330.s5': 16, 'DDI-DrugBank.d429.s7': 16, 'DDI-DrugBank.d377.s1': 16, 'DDI-DrugBank.d586.s3': 15, 'DDI-DrugBank.d662.s3': 15, 'DDI-DrugBank.d684.s3': 15, 'DDI-DrugBank.d731.s1': 15, 'DDI-DrugBank.d614.s9': 15, 'DDI-MedLine.d193.s3': 15, 'DDI-MedLine.d216.s6': 15, 'DDI-DrugBank.d756.s11': 15, 'DDI-DrugBank.d780.s8': 15, 'DDI-DrugBank.d631.s3': 15, 'DDI-DrugBank.d774.s0': 15, 'DDI-DrugBank.d715.s1': 15, 'DDI-DrugBank.d656.s3': 15, 'DDI-DrugBank.d727.s4': 15, 'DDI-MedLine.d84.s5': 15, 'DDI-MedLine.d139.s3': 15, 'DDI-MedLine.d68.s3': 15, 'DDI-MedLine.d60.s5': 15, 'DDI-MedLine.d111.s15': 15, 'DDI-MedLine.d117.s9': 15, 'DDI-MedLine.d2.s3': 15, 'DDI-MedLine.d64.s2': 15, 'DDI-DrugBank.d419.s5': 15, 'DDI-DrugBank.d562.s14': 15, 'DDI-DrugBank.d282.s0': 15, 'DDI-DrugBank.d260.s4': 15, 'DDI-DrugBank.d84.s11': 15, 'DDI-DrugBank.d51.s3': 15, 'DDI-DrugBank.d373.s14': 15, 'DDI-DrugBank.d265.s9': 15, 'DDI-DrugBank.d183.s4': 15, 'DDI-DrugBank.d284.s16': 15, 'DDI-DrugBank.d59.s1': 15, 'DDI-DrugBank.d294.s0': 15, 'DDI-DrugBank.d406.s0': 15, 'DDI-DrugBank.d254.s2': 15, 'DDI-DrugBank.d504.s2': 15, 'DDI-DrugBank.d238.s25': 15, 'DDI-DrugBank.d159.s1': 15, 'DDI-DrugBank.d46.s22': 15, 'DDI-DrugBank.d127.s2': 15, 'DDI-DrugBank.d31.s8': 15, 'DDI-DrugBank.d249.s24': 15, 'DDI-DrugBank.d326.s1': 15, 'DDI-DrugBank.d53.s17': 15, 'DDI-DrugBank.d513.s1': 15, 'DDI-DrugBank.d426.s5': 15, 'DDI-DrugBank.d269.s19': 15, 'DDI-DrugBank.d217.s14': 15, 'DDI-DrugBank.d523.s16': 15, 'DDI-MedLine.d165.s6': 14, 'DDI-DrugBank.d646.s2': 14, 'DDI-MedLine.d180.s13': 14, 'DDI-MedLine.d213.s6': 14, 'DDI-DrugBank.d590.s4': 14, 'DDI-DrugBank.d671.s2': 14, 'DDI-DrugBank.d737.s11': 14, 'DDI-DrugBank.d610.s6': 14, 'DDI-DrugBank.d598.s2': 14, 'DDI-DrugBank.d579.s1': 14, 'DDI-DrugBank.d750.s0': 14, 'DDI-DrugBank.d741.s3': 14, 'DDI-DrugBank.d734.s2': 14, 'DDI-MedLine.d56.s11': 14, 'DDI-MedLine.d3.s15': 14, 'DDI-MedLine.d46.s16': 14, 'DDI-DrugBank.d481.s0': 14, 'DDI-DrugBank.d459.s4': 14, 'DDI-DrugBank.d548.s22': 14, 'DDI-DrugBank.d251.s0': 14, 'DDI-DrugBank.d137.s11': 14, 'DDI-DrugBank.d464.s2': 14, 'DDI-DrugBank.d469.s10': 14, 'DDI-DrugBank.d171.s10': 14, 'DDI-DrugBank.d553.s7': 14, 'DDI-DrugBank.d22.s3': 14, 'DDI-DrugBank.d430.s3': 14, 'DDI-DrugBank.d34.s1': 14, 'DDI-DrugBank.d411.s21': 14, 'DDI-MedLine.d182.s23': 13, 'DDI-MedLine.d160.s4': 13, 'DDI-MedLine.d145.s4': 13, 'DDI-MedLine.d175.s14': 13, 'DDI-DrugBank.d683.s0': 13, 'DDI-DrugBank.d681.s0': 13, 'DDI-DrugBank.d729.s0': 13, 'DDI-DrugBank.d733.s2': 13, 'DDI-DrugBank.d581.s2': 13, 'DDI-DrugBank.d773.s5': 13, 'DDI-DrugBank.d725.s3': 13, 'DDI-DrugBank.d632.s7': 13, 'DDI-DrugBank.d639.s7': 13, 'DDI-DrugBank.d704.s6': 13, 'DDI-DrugBank.d689.s3': 13, 'DDI-DrugBank.d624.s3': 13, 'DDI-DrugBank.d606.s1': 13, 'DDI-DrugBank.d711.s4': 13, 'DDI-MedLine.d15.s3': 13, 'DDI-MedLine.d35.s7': 13, 'DDI-MedLine.d4.s3': 13, 'DDI-MedLine.d81.s7': 13, 'DDI-MedLine.d128.s17': 13, 'DDI-DrugBank.d78.s21': 13, 'DDI-DrugBank.d250.s4': 13, 'DDI-DrugBank.d559.s2': 13, 'DDI-DrugBank.d453.s3': 13, 'DDI-DrugBank.d132.s30': 13, 'DDI-DrugBank.d130.s3': 13, 'DDI-DrugBank.d465.s1': 13, 'DDI-DrugBank.d256.s3': 13, 'DDI-DrugBank.d199.s2': 13, 'DDI-DrugBank.d385.s1': 13, 'DDI-DrugBank.d82.s37': 13, 'DDI-DrugBank.d560.s2': 13, 'DDI-DrugBank.d569.s7': 13, 'DDI-DrugBank.d428.s12': 13, 'DDI-DrugBank.d357.s6': 13, 'DDI-DrugBank.d19.s11': 13, 'DDI-DrugBank.d286.s2': 13, 'DDI-DrugBank.d213.s5': 13, 'DDI-DrugBank.d117.s0': 13, 'DDI-DrugBank.d9.s0': 13, 'DDI-DrugBank.d246.s15': 13, 'DDI-DrugBank.d416.s3': 13, 'DDI-DrugBank.d125.s0': 13, 'DDI-DrugBank.d279.s12': 13, 'DDI-DrugBank.d166.s3': 13, 'DDI-MedLine.d171.s7': 12, 'DDI-MedLine.d196.s27': 12, 'DDI-MedLine.d201.s10': 12, 'DDI-MedLine.d204.s11': 12, 'DDI-DrugBank.d765.s2': 12, 'DDI-DrugBank.d676.s4': 12, 'DDI-DrugBank.d690.s4': 12, 'DDI-DrugBank.d578.s12': 12, 'DDI-DrugBank.d653.s9': 12, 'DDI-DrugBank.d697.s0': 12, 'DDI-DrugBank.d743.s13': 12, 'DDI-DrugBank.d602.s5': 12, 'DDI-DrugBank.d678.s4': 12, 'DDI-DrugBank.d700.s16': 12, 'DDI-DrugBank.d595.s7': 12, 'DDI-DrugBank.d713.s5': 12, 'DDI-DrugBank.d603.s6': 12, 'DDI-DrugBank.d584.s13': 12, 'DDI-DrugBank.d605.s0': 12, 'DDI-MedLine.d63.s8': 12, 'DDI-MedLine.d37.s3': 12, 'DDI-MedLine.d55.s4': 12, 'DDI-MedLine.d85.s15': 12, 'DDI-DrugBank.d116.s2': 12, 'DDI-DrugBank.d454.s4': 12, 'DDI-DrugBank.d148.s7': 12, 'DDI-DrugBank.d359.s6': 12, 'DDI-DrugBank.d340.s36': 12, 'DDI-DrugBank.d299.s12': 12, 'DDI-DrugBank.d487.s9': 12, 'DDI-DrugBank.d175.s24': 12, 'DDI-DrugBank.d85.s17': 12, 'DDI-DrugBank.d536.s11': 12, 'DDI-DrugBank.d153.s4': 12, 'DDI-DrugBank.d244.s1': 12, 'DDI-DrugBank.d448.s6': 12, 'DDI-DrugBank.d309.s2': 12, 'DDI-DrugBank.d272.s3': 12, 'DDI-DrugBank.d131.s11': 12, 'DDI-DrugBank.d193.s1': 12, 'DDI-DrugBank.d473.s3': 12, 'DDI-DrugBank.d174.s4': 12, 'DDI-DrugBank.d514.s4': 12, 'DDI-DrugBank.d389.s3': 12, 'DDI-DrugBank.d393.s6': 12, 'DDI-DrugBank.d12.s9': 12, 'DDI-DrugBank.d149.s0': 12, 'DDI-DrugBank.d281.s3': 12, 'DDI-DrugBank.d436.s0': 12, 'DDI-DrugBank.d423.s9': 12, 'DDI-MedLine.d146.s4': 11, 'DDI-DrugBank.d778.s0': 11, 'DDI-DrugBank.d617.s9': 11, 'DDI-DrugBank.d766.s4': 11, 'DDI-DrugBank.d781.s17': 11, 'DDI-DrugBank.d680.s10': 11, 'DDI-DrugBank.d699.s0': 11, 'DDI-DrugBank.d769.s3': 11, 'DDI-DrugBank.d771.s4': 11, 'DDI-MedLine.d11.s5': 11, 'DDI-MedLine.d21.s15': 11, 'DDI-MedLine.d72.s15': 11, 'DDI-DrugBank.d176.s16': 11, 'DDI-DrugBank.d50.s1': 11, 'DDI-DrugBank.d112.s2': 11, 'DDI-DrugBank.d35.s9': 11, 'DDI-DrugBank.d79.s1': 11, 'DDI-DrugBank.d75.s16': 11, 'DDI-DrugBank.d344.s0': 11, 'DDI-DrugBank.d477.s5': 11, 'DDI-DrugBank.d520.s0': 11, 'DDI-DrugBank.d366.s0': 11, 'DDI-DrugBank.d106.s11': 11, 'DDI-DrugBank.d403.s3': 11, 'DDI-DrugBank.d528.s2': 11, 'DDI-DrugBank.d420.s15': 11, 'DDI-DrugBank.d352.s4': 11, 'DDI-DrugBank.d540.s0': 11, 'DDI-DrugBank.d451.s0': 11, 'DDI-DrugBank.d415.s16': 11, 'DDI-DrugBank.d296.s1': 11, 'DDI-DrugBank.d268.s1': 11, 'DDI-DrugBank.d396.s3': 11, 'DDI-DrugBank.d145.s0': 11, 'DDI-MedLine.d215.s15': 10, 'DDI-MedLine.d223.s4': 10, 'DDI-DrugBank.d674.s2': 10, 'DDI-DrugBank.d708.s0': 10, 'DDI-DrugBank.d626.s0': 10, 'DDI-DrugBank.d593.s1': 10, 'DDI-DrugBank.d621.s1': 10, 'DDI-DrugBank.d642.s2': 10, 'DDI-DrugBank.d615.s2': 10, 'DDI-DrugBank.d695.s1': 10, 'DDI-DrugBank.d686.s2': 10, 'DDI-DrugBank.d703.s1': 10, 'DDI-DrugBank.d659.s7': 10, 'DDI-DrugBank.d698.s2': 10, 'DDI-DrugBank.d572.s37': 10, 'DDI-MedLine.d141.s9': 10, 'DDI-MedLine.d99.s13': 10, 'DDI-MedLine.d134.s4': 10, 'DDI-MedLine.d70.s8': 10, 'DDI-DrugBank.d322.s1': 10, 'DDI-DrugBank.d534.s0': 10, 'DDI-DrugBank.d364.s24': 10, 'DDI-DrugBank.d556.s7': 10, 'DDI-DrugBank.d439.s0': 10, 'DDI-DrugBank.d418.s0': 10, 'DDI-DrugBank.d25.s0': 10, 'DDI-DrugBank.d362.s5': 10, 'DDI-DrugBank.d467.s6': 10, 'DDI-DrugBank.d441.s9': 10, 'DDI-DrugBank.d257.s7': 10, 'DDI-DrugBank.d397.s16': 10, 'DDI-DrugBank.d293.s1': 10, 'DDI-DrugBank.d347.s8': 10, 'DDI-DrugBank.d337.s4': 10, 'DDI-DrugBank.d237.s22': 10, 'DDI-DrugBank.d243.s0': 10, 'DDI-DrugBank.d413.s25': 10, 'DDI-DrugBank.d519.s5': 10, 'DDI-DrugBank.d498.s3': 10, 'DDI-DrugBank.d240.s2': 10, 'DDI-DrugBank.d200.s2': 10, 'DDI-DrugBank.d479.s3': 10, 'DDI-DrugBank.d230.s5': 10, 'DDI-DrugBank.d14.s3': 10, 'DDI-DrugBank.d589.s1': 9, 'DDI-DrugBank.d672.s8': 9, 'DDI-DrugBank.d623.s9': 9, 'DDI-DrugBank.d736.s8': 9, 'DDI-DrugBank.d616.s2': 9, 'DDI-DrugBank.d694.s2': 9, 'DDI-DrugBank.d640.s11': 9, 'DDI-DrugBank.d763.s7': 9, 'DDI-MedLine.d78.s4': 9, 'DDI-DrugBank.d316.s20': 9, 'DDI-DrugBank.d61.s1': 9, 'DDI-DrugBank.d146.s3': 9, 'DDI-DrugBank.d163.s44': 9, 'DDI-DrugBank.d212.s25': 9, 'DDI-DrugBank.d49.s0': 9, 'DDI-DrugBank.d2.s1': 9, 'DDI-DrugBank.d306.s1': 9, 'DDI-DrugBank.d89.s7': 9, 'DDI-DrugBank.d374.s5': 9, 'DDI-DrugBank.d714.s0': 8, 'DDI-DrugBank.d748.s0': 8, 'DDI-DrugBank.d719.s0': 8, 'DDI-DrugBank.d634.s6': 8, 'DDI-DrugBank.d716.s6': 8, 'DDI-DrugBank.d744.s2': 8, 'DDI-DrugBank.d753.s5': 8, 'DDI-DrugBank.d128.s0': 8, 'DDI-DrugBank.d554.s0': 8, 'DDI-DrugBank.d372.s2': 8, 'DDI-DrugBank.d300.s0': 8, 'DDI-DrugBank.d76.s32': 8, 'DDI-DrugBank.d58.s0': 8, 'DDI-DrugBank.d449.s2': 8, 'DDI-DrugBank.d139.s8': 8, 'DDI-DrugBank.d463.s9': 8, 'DDI-DrugBank.d440.s16': 8, 'DDI-DrugBank.d255.s0': 8, 'DDI-DrugBank.d54.s37': 8, 'DDI-DrugBank.d341.s5': 8, 'DDI-DrugBank.d29.s14': 8, 'DDI-DrugBank.d93.s1': 8, 'DDI-DrugBank.d136.s0': 8, 'DDI-DrugBank.d305.s7': 8, 'DDI-DrugBank.d677.s1': 7, 'DDI-DrugBank.d728.s4': 7, 'DDI-DrugBank.d576.s8': 7, 'DDI-MedLine.d116.s7': 7, 'DDI-DrugBank.d236.s31': 7, 'DDI-DrugBank.d96.s0': 7, 'DDI-DrugBank.d92.s0': 7, 'DDI-DrugBank.d491.s36': 7, 'DDI-DrugBank.d151.s3': 7, 'DDI-DrugBank.d387.s2': 7, 'DDI-DrugBank.d90.s0': 7, 'DDI-DrugBank.d158.s27': 7, 'DDI-DrugBank.d570.s20': 7, 'DDI-DrugBank.d65.s0': 7, 'DDI-DrugBank.d402.s0': 7, 'DDI-DrugBank.d164.s1': 7, 'DDI-DrugBank.d594.s0': 6, 'DDI-DrugBank.d740.s1': 6, 'DDI-DrugBank.d691.s1': 6, 'DDI-DrugBank.d783.s2': 6, 'DDI-DrugBank.d648.s7': 6, 'DDI-MedLine.d102.s8': 6, 'DDI-DrugBank.d152.s11': 6, 'DDI-DrugBank.d458.s33': 6, 'DDI-DrugBank.d524.s0': 6, 'DDI-DrugBank.d485.s48': 6, 'DDI-DrugBank.d259.s0': 6, 'DDI-DrugBank.d571.s5': 6, 'DDI-DrugBank.d588.s14': 5, 'DDI-DrugBank.d641.s7': 5, 'DDI-DrugBank.d661.s6': 5, 'DDI-DrugBank.d60.s15': 5, 'DDI-DrugBank.d317.s21': 5, 'DDI-DrugBank.d409.s3': 5, 'DDI-DrugBank.d368.s14': 5, 'DDI-DrugBank.d301.s22': 5, 'DDI-DrugBank.d755.s0': 4, 'DDI-DrugBank.d707.s2': 4, 'DDI-DrugBank.d693.s7': 4, 'DDI-MedLine.d49.s10': 4, 'DDI-DrugBank.d67.s22': 4, 'DDI-DrugBank.d391.s0': 4, 'DDI-DrugBank.d24.s0': 4, 'DDI-DrugBank.d343.s0': 4, 'DDI-DrugBank.d367.s25': 4, 'DDI-DrugBank.d157.s3': 4, 'DDI-DrugBank.d512.s8': 4, 'DDI-DrugBank.d109.s0': 4, 'DDI-DrugBank.d539.s0': 4, 'DDI-DrugBank.d155.s0': 3, 'DDI-DrugBank.d421.s0': 3, 'DDI-DrugBank.d102.s0': 3, 'DDI-DrugBank.d214.s0': 3, 'DDI-DrugBank.d383.s0': 3, 'DDI-DrugBank.d142.s3': 3, 'DDI-DrugBank.d264.s0': 3, 'DDI-DrugBank.d201.s0': 3, 'DDI-DrugBank.d227.s1': 3, 'DDI-MedLine.d219.s7': 2, 'DDI-MedLine.d8.s8': 2, 'DDI-DrugBank.d156.s0': 2, 'DDI-DrugBank.d349.s0': 2, 'DDI-DrugBank.d119.s7': 2, 'DDI-DrugBank.d101.s3': 2, 'DDI-DrugBank.d390.s1': 2, 'DDI-DrugBank.d620.s1': 1, 'DDI-DrugBank.d57.s3': 1, 'DDI-DrugBank.d302.s0': 1, 'DDI-DrugBank.d432.s0': 1})\n"
     ]
    },
    {
     "data": {
      "image/png": "[encoded data removed]",
      "text/plain": [
       "<Figure size 432x288 with 1 Axes>"
      ]
     },
     "metadata": {
      "needs_background": "light"
     },
     "output_type": "display_data"
    }
   ],
   "source": [
    "dataset.plot_sample_length_distribution()"
   ]
  },
  {
   "cell_type": "code",
   "execution_count": 1,
   "metadata": {},
   "outputs": [],
   "source": [
    "#dataset.plot_ner_cooccurence_venndiagram()"
   ]
  },
  {
   "cell_type": "code",
   "execution_count": null,
   "metadata": {},
   "outputs": [],
   "source": []
  },
  {
   "cell_type": "code",
   "execution_count": null,
   "metadata": {},
   "outputs": [],
   "source": []
  },
  {
   "cell_type": "code",
   "execution_count": null,
   "metadata": {},
   "outputs": [],
   "source": []
  }
 ],
 "metadata": {
  "kernelspec": {
   "display_name": "Python 3",
   "language": "python",
   "name": "python3"
  },
  "language_info": {
   "codemirror_mode": {
    "name": "ipython",
    "version": 3
   },
   "file_extension": ".py",
   "mimetype": "text/x-python",
   "name": "python",
   "nbconvert_exporter": "python",
   "pygments_lexer": "ipython3",
   "version": "3.7.4"
  }
 },
 "nbformat": 4,
 "nbformat_minor": 4
}
